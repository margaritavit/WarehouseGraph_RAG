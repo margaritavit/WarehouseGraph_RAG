{
  "nbformat": 4,
  "nbformat_minor": 0,
  "metadata": {
    "colab": {
      "provenance": [],
      "authorship_tag": "ABX9TyMFjIZ+IJmrJb7d/bj7/FmR",
      "include_colab_link": true
    },
    "kernelspec": {
      "name": "python3",
      "display_name": "Python 3"
    },
    "language_info": {
      "name": "python"
    }
  },
  "cells": [
    {
      "cell_type": "markdown",
      "metadata": {
        "id": "view-in-github",
        "colab_type": "text"
      },
      "source": [
        "<a href=\"https://colab.research.google.com/github/margaritavit/WarehouseGraph_RAG/blob/main/GRAIL.ipynb\" target=\"_parent\"><img src=\"https://colab.research.google.com/assets/colab-badge.svg\" alt=\"Open In Colab\"/></a>"
      ]
    },
    {
      "cell_type": "markdown",
      "source": [
        "## Install and import python libraries"
      ],
      "metadata": {
        "id": "8_7ODom1E5pI"
      }
    },
    {
      "cell_type": "code",
      "source": [
        "! pip install langchain -q"
      ],
      "metadata": {
        "id": "1RkUQwFW8UoP",
        "colab": {
          "base_uri": "https://localhost:8080/"
        },
        "outputId": "d7c813c5-2552-4b3e-93e6-3a247af456c3"
      },
      "execution_count": 1,
      "outputs": [
        {
          "output_type": "stream",
          "name": "stdout",
          "text": [
            "\u001b[2K     \u001b[90m━━━━━━━━━━━━━━━━━━━━━━━━━━━━━━━━━━━━━━━━\u001b[0m \u001b[32m973.5/973.5 kB\u001b[0m \u001b[31m4.9 MB/s\u001b[0m eta \u001b[36m0:00:00\u001b[0m\n",
            "\u001b[2K     \u001b[90m━━━━━━━━━━━━━━━━━━━━━━━━━━━━━━━━━━━━━━━━\u001b[0m \u001b[32m308.5/308.5 kB\u001b[0m \u001b[31m18.4 MB/s\u001b[0m eta \u001b[36m0:00:00\u001b[0m\n",
            "\u001b[2K     \u001b[90m━━━━━━━━━━━━━━━━━━━━━━━━━━━━━━━━━━━━━━━━\u001b[0m \u001b[32m122.8/122.8 kB\u001b[0m \u001b[31m8.7 MB/s\u001b[0m eta \u001b[36m0:00:00\u001b[0m\n",
            "\u001b[2K     \u001b[90m━━━━━━━━━━━━━━━━━━━━━━━━━━━━━━━━━━━━━━━━\u001b[0m \u001b[32m53.0/53.0 kB\u001b[0m \u001b[31m4.4 MB/s\u001b[0m eta \u001b[36m0:00:00\u001b[0m\n",
            "\u001b[2K     \u001b[90m━━━━━━━━━━━━━━━━━━━━━━━━━━━━━━━━━━━━━━━━\u001b[0m \u001b[32m142.5/142.5 kB\u001b[0m \u001b[31m1.9 MB/s\u001b[0m eta \u001b[36m0:00:00\u001b[0m\n",
            "\u001b[?25h"
          ]
        }
      ]
    },
    {
      "cell_type": "code",
      "source": [
        "! pip install langchain-community -q"
      ],
      "metadata": {
        "colab": {
          "base_uri": "https://localhost:8080/"
        },
        "id": "HoL0pGMP8XGq",
        "outputId": "37a856ca-e6fb-4679-fda8-694c02f8fbb3"
      },
      "execution_count": 2,
      "outputs": [
        {
          "output_type": "stream",
          "name": "stdout",
          "text": [
            "\u001b[2K     \u001b[90m━━━━━━━━━━━━━━━━━━━━━━━━━━━━━━━━━━━━━━━━\u001b[0m \u001b[32m2.1/2.1 MB\u001b[0m \u001b[31m6.7 MB/s\u001b[0m eta \u001b[36m0:00:00\u001b[0m\n",
            "\u001b[2K     \u001b[90m━━━━━━━━━━━━━━━━━━━━━━━━━━━━━━━━━━━━━━━━\u001b[0m \u001b[32m49.3/49.3 kB\u001b[0m \u001b[31m5.4 MB/s\u001b[0m eta \u001b[36m0:00:00\u001b[0m\n",
            "\u001b[?25h"
          ]
        }
      ]
    },
    {
      "cell_type": "code",
      "source": [
        "! pip install langchain-openai -q"
      ],
      "metadata": {
        "colab": {
          "base_uri": "https://localhost:8080/"
        },
        "id": "jxbPqcUB8iN4",
        "outputId": "6d1a9d84-bd63-4c7a-aaf5-b572a72d9c18"
      },
      "execution_count": 3,
      "outputs": [
        {
          "output_type": "stream",
          "name": "stdout",
          "text": [
            "\u001b[2K     \u001b[90m━━━━━━━━━━━━━━━━━━━━━━━━━━━━━━━━━━━━━━━━\u001b[0m \u001b[32m320.6/320.6 kB\u001b[0m \u001b[31m4.1 MB/s\u001b[0m eta \u001b[36m0:00:00\u001b[0m\n",
            "\u001b[2K     \u001b[90m━━━━━━━━━━━━━━━━━━━━━━━━━━━━━━━━━━━━━━━━\u001b[0m \u001b[32m1.1/1.1 MB\u001b[0m \u001b[31m18.3 MB/s\u001b[0m eta \u001b[36m0:00:00\u001b[0m\n",
            "\u001b[2K     \u001b[90m━━━━━━━━━━━━━━━━━━━━━━━━━━━━━━━━━━━━━━━━\u001b[0m \u001b[32m75.6/75.6 kB\u001b[0m \u001b[31m6.0 MB/s\u001b[0m eta \u001b[36m0:00:00\u001b[0m\n",
            "\u001b[2K     \u001b[90m━━━━━━━━━━━━━━━━━━━━━━━━━━━━━━━━━━━━━━━━\u001b[0m \u001b[32m77.9/77.9 kB\u001b[0m \u001b[31m9.5 MB/s\u001b[0m eta \u001b[36m0:00:00\u001b[0m\n",
            "\u001b[2K     \u001b[90m━━━━━━━━━━━━━━━━━━━━━━━━━━━━━━━━━━━━━━━━\u001b[0m \u001b[32m58.3/58.3 kB\u001b[0m \u001b[31m7.2 MB/s\u001b[0m eta \u001b[36m0:00:00\u001b[0m\n",
            "\u001b[?25h"
          ]
        }
      ]
    },
    {
      "cell_type": "code",
      "source": [
        "! pip install openai -q"
      ],
      "metadata": {
        "id": "J3eXiinq8pKY"
      },
      "execution_count": 4,
      "outputs": []
    },
    {
      "cell_type": "code",
      "source": [
        "! pip install neo4j -q"
      ],
      "metadata": {
        "id": "lP3JIu8H8rMg",
        "colab": {
          "base_uri": "https://localhost:8080/"
        },
        "outputId": "5ec50a2b-2e2b-4b47-82dc-7abe971a4a27"
      },
      "execution_count": 5,
      "outputs": [
        {
          "output_type": "stream",
          "name": "stdout",
          "text": [
            "\u001b[?25l     \u001b[90m━━━━━━━━━━━━━━━━━━━━━━━━━━━━━━━━━━━━━━━━\u001b[0m \u001b[32m0.0/203.0 kB\u001b[0m \u001b[31m?\u001b[0m eta \u001b[36m-:--:--\u001b[0m\r\u001b[2K     \u001b[91m━━━━━━\u001b[0m\u001b[90m╺\u001b[0m\u001b[90m━━━━━━━━━━━━━━━━━━━━━━━━━━━━━━━━━\u001b[0m \u001b[32m30.7/203.0 kB\u001b[0m \u001b[31m941.1 kB/s\u001b[0m eta \u001b[36m0:00:01\u001b[0m\r\u001b[2K     \u001b[91m━━━━━━━━━━━━━━━━━━\u001b[0m\u001b[90m╺\u001b[0m\u001b[90m━━━━━━━━━━━━━━━━━━━━━\u001b[0m \u001b[32m92.2/203.0 kB\u001b[0m \u001b[31m1.3 MB/s\u001b[0m eta \u001b[36m0:00:01\u001b[0m\r\u001b[2K     \u001b[91m━━━━━━━━━━━━━━━━━━━━━━━━━━━━━━━━━━━━━━\u001b[0m\u001b[90m╺\u001b[0m\u001b[90m━\u001b[0m \u001b[32m194.6/203.0 kB\u001b[0m \u001b[31m2.0 MB/s\u001b[0m eta \u001b[36m0:00:01\u001b[0m\r\u001b[2K     \u001b[90m━━━━━━━━━━━━━━━━━━━━━━━━━━━━━━━━━━━━━━━━\u001b[0m \u001b[32m203.0/203.0 kB\u001b[0m \u001b[31m1.9 MB/s\u001b[0m eta \u001b[36m0:00:00\u001b[0m\n",
            "\u001b[?25h  Installing build dependencies ... \u001b[?25l\u001b[?25hdone\n",
            "  Getting requirements to build wheel ... \u001b[?25l\u001b[?25hdone\n",
            "  Installing backend dependencies ... \u001b[?25l\u001b[?25hdone\n",
            "  Preparing metadata (pyproject.toml) ... \u001b[?25l\u001b[?25hdone\n",
            "  Building wheel for neo4j (pyproject.toml) ... \u001b[?25l\u001b[?25hdone\n"
          ]
        }
      ]
    },
    {
      "cell_type": "code",
      "source": [
        "import openai\n",
        "import neo4j\n",
        "\n",
        "from langchain_community.graphs import Neo4jGraph\n",
        "\n",
        "from langchain.prompts import (\n",
        "    PromptTemplate,\n",
        "    SystemMessagePromptTemplate,\n",
        "    HumanMessagePromptTemplate,\n",
        "    ChatPromptTemplate,\n",
        ")\n",
        "\n",
        "from langchain_openai import ChatOpenAI\n",
        "\n",
        "from langchain.chains import RetrievalQA\n",
        "from langchain.chains import GraphCypherQAChain\n",
        "\n",
        "from langchain_openai import OpenAIEmbeddings\n",
        "\n",
        "from langchain_community.vectorstores import Neo4jVector\n",
        "\n",
        "from langchain.agents import AgentExecutor, create_tool_calling_agent\n",
        "from langchain.tools import Tool"
      ],
      "metadata": {
        "id": "Semicejj82ZB"
      },
      "execution_count": 6,
      "outputs": []
    },
    {
      "cell_type": "markdown",
      "source": [
        "## OpenAI\n",
        "https://openai.com/"
      ],
      "metadata": {
        "id": "7pQ4h8bgE_5k"
      }
    },
    {
      "cell_type": "code",
      "source": [
        "# obtain an OPENAI API key at OPENAI\n",
        "\n",
        "OPENAI_KEY = open_ai_key\n",
        "OPENAI_ENDPOINT='https://api.openai.com/v1/embeddings'"
      ],
      "metadata": {
        "id": "aC5EUUKS9x_8"
      },
      "execution_count": 7,
      "outputs": []
    },
    {
      "cell_type": "markdown",
      "source": [
        "## Neo4j AURA DB\n",
        "https://neo4j.com/cloud/platform/aura-graph-database/\n",
        "\n",
        "\n"
      ],
      "metadata": {
        "id": "pu6Yu6FYFKJ_"
      }
    },
    {
      "cell_type": "code",
      "source": [
        "# Obtain the connection URI, username, and password for your AuraDB instance.\n",
        "\n",
        "AURA_CONNECTION_URI = aura_uri\n",
        "AURA_USERNAME = aura_usr\n",
        "AURA_PASSWORD = aura_psw\n"
      ],
      "metadata": {
        "id": "bDt9WtQr-DZW"
      },
      "execution_count": 8,
      "outputs": []
    },
    {
      "cell_type": "markdown",
      "source": [
        "## LLM"
      ],
      "metadata": {
        "id": "b_ULbGYdFibK"
      }
    },
    {
      "cell_type": "code",
      "source": [
        "chat = ChatOpenAI(\n",
        "    temperature = 0,\n",
        "    openai_api_key = OPENAI_KEY,\n",
        "    model_name=\"gpt-4o\"\n",
        "    )"
      ],
      "metadata": {
        "id": "EM4DWcTh9n-1"
      },
      "execution_count": 9,
      "outputs": []
    },
    {
      "cell_type": "markdown",
      "source": [
        "## Graph Database"
      ],
      "metadata": {
        "id": "lhAEZw0AFudN"
      }
    },
    {
      "cell_type": "code",
      "source": [
        "graph = Neo4jGraph(\n",
        "    url = AURA_CONNECTION_URI,\n",
        "    username = AURA_USERNAME,\n",
        "    password = AURA_PASSWORD,\n",
        "    enhanced_schema = True\n",
        ")"
      ],
      "metadata": {
        "id": "odJcCBGt98XJ"
      },
      "execution_count": 10,
      "outputs": []
    },
    {
      "cell_type": "markdown",
      "source": [
        "## Embedding model"
      ],
      "metadata": {
        "id": "nMs8VexwF1PR"
      }
    },
    {
      "cell_type": "code",
      "source": [
        "embeddings = OpenAIEmbeddings(openai_api_key=OPENAI_KEY)"
      ],
      "metadata": {
        "id": "c5J5cxEJ-e6P"
      },
      "execution_count": 11,
      "outputs": []
    },
    {
      "cell_type": "markdown",
      "source": [
        "## RAG chain"
      ],
      "metadata": {
        "id": "IABv46mj_IKN"
      }
    },
    {
      "cell_type": "markdown",
      "source": [
        "We use neo4j vector store"
      ],
      "metadata": {
        "id": "7oJhU7BGF8Fv"
      }
    },
    {
      "cell_type": "code",
      "source": [
        "neo4j_vector_store = Neo4jVector.from_existing_graph(\n",
        "    embedding=embeddings, # embedding model\n",
        "    url=AURA_CONNECTION_URI ,\n",
        "    username=AURA_USERNAME,\n",
        "    password=AURA_PASSWORD,\n",
        "    index_name='part_embeddings', #vector index name\n",
        "    node_label='part', # vector node label\n",
        "    text_node_properties=['name','description','ata'], # vector source properties\n",
        "    embedding_node_property='part_embedding_full', # vector embedding property name\n",
        ")"
      ],
      "metadata": {
        "id": "lYToVZzO-bqU"
      },
      "execution_count": 12,
      "outputs": []
    },
    {
      "cell_type": "code",
      "source": [
        "retriever = neo4j_vector_store.as_retriever(search_type=\"similarity_score_threshold\", search_kwargs={\"score_threshold\": 0.8, \"k\":100})"
      ],
      "metadata": {
        "id": "c7D0Iorm-iNQ"
      },
      "execution_count": 13,
      "outputs": []
    },
    {
      "cell_type": "code",
      "source": [
        "part_template = \"\"\"Your job is to use parts information to answer questions about their properties. Use\n",
        "the following context to answer questions. Be as detailed as possible, but\n",
        "don't make up any information that's not from the context.\n",
        "Always provide an answer with data existing in the context itself, do not refer to the context in your answer.\n",
        "If you don't know an answer, say you don't know.\n",
        "\n",
        "Example\n",
        "Question: Are there any parts described as screws?\n",
        "Answer:  Yes, there are many parts described as screws.\n",
        "For example, part_5838, part_446, part_8589948594, part_6285,\n",
        "part_1131, part_11672, part_25769815899, part_194, part_215, part_14441,\n",
        "part_8589957630, part_425, part_8589953357, part_25769807571, part_1065, part_623, part_959,\n",
        "part_28740, part_7635, part_28656, part_8589938948, part_689, part_10797, part_7598, part_8589957627,\n",
        "part_8589957629, part_31639, part_6260, part_8589947597, part_28082, part_30693, part_8589935794, part_28787,\n",
        "part_11062, part_176, part_25769833147, part_5905, part_631, part_938, part_17179872305, part_11224, part_18345,\n",
        "part_17179888159, part_18848, part_740, part_1017, part_4798, part_17876, part_292, part_1055, part_5450,\n",
        "part_17179891685, part_7795, part_8589944754, part_1274, part_684, part_1254, part_11858, part_11806, part_4263 are all described as screws.'\n",
        "{context}\n",
        "\"\"\""
      ],
      "metadata": {
        "id": "Zh7tplT8-lbB"
      },
      "execution_count": 14,
      "outputs": []
    },
    {
      "cell_type": "code",
      "source": [
        "part_system_prompt = SystemMessagePromptTemplate(\n",
        "    prompt=PromptTemplate(input_variables=[\"context\"], template=part_template)\n",
        ")"
      ],
      "metadata": {
        "id": "O9kVxp06-n8u"
      },
      "execution_count": 15,
      "outputs": []
    },
    {
      "cell_type": "code",
      "source": [
        "part_human_prompt = HumanMessagePromptTemplate(\n",
        "    prompt=PromptTemplate(input_variables=[\"question\"], template=\"{question}\")\n",
        ")"
      ],
      "metadata": {
        "id": "-4AyAel_-qM6"
      },
      "execution_count": 16,
      "outputs": []
    },
    {
      "cell_type": "code",
      "source": [
        "messages = [part_system_prompt, part_human_prompt]"
      ],
      "metadata": {
        "id": "8zLY4Tyz-urc"
      },
      "execution_count": 17,
      "outputs": []
    },
    {
      "cell_type": "code",
      "source": [
        "part_prompt = ChatPromptTemplate(\n",
        "    input_variables=[\"context\", \"question\"], messages=messages\n",
        ")"
      ],
      "metadata": {
        "id": "IOxJJzjM-y0_"
      },
      "execution_count": 18,
      "outputs": []
    },
    {
      "cell_type": "markdown",
      "source": [
        "#### Stuff documents chain: It takes a list of documents, inserts them all into a prompt and passes that prompt to an LLM. This chain is well-suited for applications where documents are small and only a few are passed in for most calls.\n",
        "\n",
        "https://js.langchain.com/v0.1/docs/modules/chains/document/stuff/"
      ],
      "metadata": {
        "id": "1p4Wk8ph_f1E"
      }
    },
    {
      "cell_type": "code",
      "source": [
        "rag_chain = RetrievalQA.from_chain_type(\n",
        "    chat,\n",
        "    chain_type=\"stuff\",\n",
        "    retriever=retriever,\n",
        "    verbose = True,\n",
        ")"
      ],
      "metadata": {
        "id": "xqnFiZLN-Vk7"
      },
      "execution_count": 19,
      "outputs": []
    },
    {
      "cell_type": "code",
      "source": [
        "rag_chain.combine_documents_chain.llm_chain.prompt = part_prompt"
      ],
      "metadata": {
        "id": "eJ8K1jlv-4i3"
      },
      "execution_count": 20,
      "outputs": []
    },
    {
      "cell_type": "markdown",
      "source": [
        "Test RAG chain"
      ],
      "metadata": {
        "id": "iRvuLJaCDeC2"
      }
    },
    {
      "cell_type": "code",
      "source": [
        "def question_rag_chain(question):\n",
        "    response = rag_chain.invoke(question)\n",
        "    result=response.get('result')\n",
        "    print(response)\n",
        "    return result"
      ],
      "metadata": {
        "id": "lB8GcQC4-6_g"
      },
      "execution_count": 21,
      "outputs": []
    },
    {
      "cell_type": "code",
      "source": [
        "question2 = \"\"\"Which parts have ata equal to 12 and are described as screws? Provide a list of their names.\"\"\"\n",
        "print(question2)\n",
        "print(question_rag_chain(question2))"
      ],
      "metadata": {
        "colab": {
          "base_uri": "https://localhost:8080/"
        },
        "id": "VUm81g2f_v6h",
        "outputId": "3084313a-dee3-43ec-e3a2-ce9cdcc77834"
      },
      "execution_count": 22,
      "outputs": [
        {
          "output_type": "stream",
          "name": "stdout",
          "text": [
            "Which parts have ata equal to 12 and are described as screws? Provide a list of their names.\n",
            "\n",
            "\n",
            "\u001b[1m> Entering new RetrievalQA chain...\u001b[0m\n",
            "\n",
            "\u001b[1m> Finished chain.\u001b[0m\n",
            "{'query': 'Which parts have ata equal to 12 and are described as screws? Provide a list of their names.', 'result': 'The parts that have an ata equal to 12 and are described as screws are:\\n\\n1. part_8589947597\\n2. part_623\\n3. part_425\\n4. part_446\\n5. part_1017\\n6. part_4798\\n7. part_28431\\n8. part_22701\\n9. part_9841\\n10. part_8589953939'}\n",
            "The parts that have an ata equal to 12 and are described as screws are:\n",
            "\n",
            "1. part_8589947597\n",
            "2. part_623\n",
            "3. part_425\n",
            "4. part_446\n",
            "5. part_1017\n",
            "6. part_4798\n",
            "7. part_28431\n",
            "8. part_22701\n",
            "9. part_9841\n",
            "10. part_8589953939\n"
          ]
        }
      ]
    },
    {
      "cell_type": "markdown",
      "source": [
        "## Cypher Chain"
      ],
      "metadata": {
        "id": "4VX0fNZ8AgBp"
      }
    },
    {
      "cell_type": "code",
      "source": [
        "cypher_generation_template = \"\"\"\n",
        "Task:\n",
        "Generate Cypher query for a Neo4j graph database.\n",
        "\n",
        "Instructions:\n",
        "Use only the provided relationship types and properties in the schema.\n",
        "Do not use any other relationship types or properties that are not provided.\n",
        "\n",
        "Schema:\n",
        "{schema}\n",
        "\n",
        "Note:\n",
        "Do not be case sensitive in the queries.\n",
        "Do not include any explanations or apologies in your responses.\n",
        "Do not respond to any questions that might ask anything other than\n",
        "for you to construct a Cypher statement.\n",
        "Do not include any text except the generated Cypher statement.\n",
        "Never include embedding properties in your queries.\n",
        "Make sure the direction of the relationship is\n",
        "correct in your queries. Make sure you alias both entities and relationships\n",
        "properly. Do not run any queries that would add to or delete from\n",
        "the database. Make sure to alias all statements that follow as with\n",
        "statement. If you need to divide numbers, make sure to\n",
        "filter the denominator to be non zero.\n",
        "\n",
        "Examples\n",
        "\n",
        "Question: Which parts have ata equal to 12 and are described as screws?\n",
        "\n",
        "MATCH (p:part)\n",
        "WHERE p.description =~ '(?i) screw.*' AND p.ata='12'\n",
        "RETURN p.name, p.description, p.ata\n",
        "\n",
        "Question: Return all the details of the creator with id '17179898931'\n",
        "\n",
        "MATCH (c:creator)\n",
        "WHERE c.id='creator_17179898931'\n",
        "RETURN c\n",
        "\n",
        "Question: Provide information about part_72\n",
        "\n",
        "MATCH (p:part)\n",
        "WHERE p.name='part_72'\n",
        "RETURN p.name, p.description, p.ata, p.type\n",
        "\n",
        "Question: Provide the number of pickslips that part_15 appears.\n",
        "\n",
        "MATCH (p:part)-[r]-(pi:pickslip)\n",
        "WHERE p.name='part_15'\n",
        "RETURN COUNT(r) AS numberOfPickslips\n",
        "\n",
        "Make sure to use IS NULL or IS NOT NULL when analyzing missing properties.\n",
        "You must never include the statement \"GROUP BY\" in your query. Make sure to alias all statements that\n",
        "follow as with statement (e.g. WITH p as part, p.description as\n",
        "description). If you need to divide numbers, make sure to filter the denominator to be non\n",
        "zero.\n",
        "\n",
        "The question is:\n",
        "{question}\n",
        "\"\"\""
      ],
      "metadata": {
        "id": "ij2ibGcbA24C"
      },
      "execution_count": 23,
      "outputs": []
    },
    {
      "cell_type": "code",
      "source": [
        "cypher_generation_prompt = PromptTemplate(\n",
        "    input_variables=[\"schema\", \"question\"], template=cypher_generation_template\n",
        ")"
      ],
      "metadata": {
        "id": "F-uxqPjwA_D3"
      },
      "execution_count": 24,
      "outputs": []
    },
    {
      "cell_type": "code",
      "source": [
        "qa_generation_template = \"\"\"You are an assistant that takes the results\n",
        "from a Neo4j Cypher query. The query results section contains the results of\n",
        "a Cypher query that was generated based on a user's natural language question.\n",
        "The provided information is authoritative, you must never doubt it or try to use\n",
        "your internal knowledge to correct it. Make the answer sound like a\n",
        "response to the question. Return the answer in json format.\n",
        "\n",
        "Query Results:\n",
        "{context}\n",
        "\n",
        "Question:\n",
        "{question}\n",
        "\n",
        "If the provided information is empty, say you don't know the answer.\n",
        "Empty information looks like this: []\n",
        "\n",
        "If the information is not empty, you must provide an answer using the\n",
        "results.\n",
        "\n",
        "Never say you don't have the right information if there is data in\n",
        "the query results. Always use the data in the query results.\n",
        "\n",
        "\"\"\""
      ],
      "metadata": {
        "id": "4XU-5LZFBFy8"
      },
      "execution_count": 25,
      "outputs": []
    },
    {
      "cell_type": "code",
      "source": [
        "qa_generation_prompt = PromptTemplate(\n",
        "    input_variables=[\"context\", \"question\"], template=qa_generation_template\n",
        ")"
      ],
      "metadata": {
        "id": "_DlYmrNyBM5X"
      },
      "execution_count": 26,
      "outputs": []
    },
    {
      "cell_type": "code",
      "source": [
        "cypher_chain = GraphCypherQAChain.from_llm(\n",
        "    chat,\n",
        "    graph = graph,\n",
        "    verbose = True, # intermediate logs will be printed to the console.\n",
        "    qa_prompt=qa_generation_prompt,\n",
        "    cypher_prompt=cypher_generation_prompt,\n",
        "    top_k = 100, # the number of query results to include in the prompt\n",
        "    validate_cypher=True,\n",
        "    return_intermediate_steps = True # include in return value the intermediate steps\n",
        ")\n"
      ],
      "metadata": {
        "id": "OHbBZUrSADX8"
      },
      "execution_count": 27,
      "outputs": []
    },
    {
      "cell_type": "markdown",
      "source": [
        "Test Cypher Chain"
      ],
      "metadata": {
        "id": "QcXLz5_wDjIj"
      }
    },
    {
      "cell_type": "code",
      "source": [
        "def question_cypher_chain(question):\n",
        "    response = cypher_chain.invoke(question)\n",
        "    result=response.get('result')\n",
        "    return result"
      ],
      "metadata": {
        "id": "ZZlu_XmfAwN1"
      },
      "execution_count": 28,
      "outputs": []
    },
    {
      "cell_type": "code",
      "source": [
        "print(cypher_chain.graph_schema)"
      ],
      "metadata": {
        "colab": {
          "base_uri": "https://localhost:8080/"
        },
        "id": "m13a1fGUBzBg",
        "outputId": "99fe3021-a649-4dd7-9ff2-837d8e99e6b1"
      },
      "execution_count": 29,
      "outputs": [
        {
          "output_type": "stream",
          "name": "stdout",
          "text": [
            "Node properties are the following:\n",
            "part {name: STRING, description: STRING, ata: STRING, type: STRING, description_embedding: STRING, part_embedding: LIST, part_embedding_full: LIST},pickslip {name: STRING, status: STRING},creator {id: STRING}\n",
            "Relationship properties are the following:\n",
            "\n",
            "The relationships are the following:\n",
            "(:part)-[:is_in]->(:pickslip),(:pickslip)-[:created_by]->(:creator)\n"
          ]
        }
      ]
    },
    {
      "cell_type": "code",
      "source": [
        "question1 ='''Which parts have ata equal to 20?'''\n",
        "print(question1)\n",
        "print(question_cypher_chain(question1))"
      ],
      "metadata": {
        "colab": {
          "base_uri": "https://localhost:8080/"
        },
        "id": "aorfNKuIB6vp",
        "outputId": "790d972d-a9ba-48ef-fe6d-c3b9b9c7c3bb"
      },
      "execution_count": 30,
      "outputs": [
        {
          "output_type": "stream",
          "name": "stdout",
          "text": [
            "Which parts have ata equal to 20?\n",
            "\n",
            "\n",
            "\u001b[1m> Entering new GraphCypherQAChain chain...\u001b[0m\n",
            "Generated Cypher:\n",
            "\u001b[32;1m\u001b[1;3mMATCH (p:part)\n",
            "WHERE p.ata='20'\n",
            "RETURN p.name, p.description, p.ata, p.type\u001b[0m\n",
            "Full Context:\n",
            "\u001b[32;1m\u001b[1;3m[{'p.name': 'part_2288', 'p.description': 'PIN, SPLIT', 'p.ata': '20', 'p.type': 'Consumable'}, {'p.name': 'part_420', 'p.description': 'SEALANT, CORROSION INHIBITING', 'p.ata': '20', 'p.type': 'Expendable'}, {'p.name': 'part_1', 'p.description': 'PIN, SPLIT', 'p.ata': '20', 'p.type': 'Consumable'}, {'p.name': 'part_309', 'p.description': 'PIN, SPLIT', 'p.ata': '20', 'p.type': 'Consumable'}, {'p.name': 'part_8589935879', 'p.description': 'MOLUB-ALLOY PASTE WHITE T', 'p.ata': '20', 'p.type': 'Expendable'}, {'p.name': 'part_72', 'p.description': 'ALGLAS WET /DRY WIPES', 'p.ata': '20', 'p.type': 'Expendable'}, {'p.name': 'part_334', 'p.description': 'PIN,COTTER', 'p.ata': '20', 'p.type': 'Consumable'}, {'p.name': 'part_8187', 'p.description': 'CIRCUIT BREAKER COLLAR', 'p.ata': '20', 'p.type': 'Consumable'}, {'p.name': 'part_13463', 'p.description': 'INSERT', 'p.ata': '20', 'p.type': 'Consumable'}, {'p.name': 'part_8589938596', 'p.description': 'PACKING', 'p.ata': '20', 'p.type': 'Consumable'}, {'p.name': 'part_4238', 'p.description': 'SEAL', 'p.ata': '20', 'p.type': 'Consumable'}, {'p.name': 'part_1222', 'p.description': 'SEAL', 'p.ata': '20', 'p.type': 'Consumable'}, {'p.name': 'part_1217', 'p.description': 'NOZZLE, SEALANT 415', 'p.ata': '20', 'p.type': 'Expendable'}, {'p.name': 'part_143', 'p.description': 'PIN, SPLIT', 'p.ata': '20', 'p.type': 'Consumable'}, {'p.name': 'part_6520', 'p.description': 'WIRE BRUSH SPID PVC', 'p.ata': '20', 'p.type': 'Consumable'}, {'p.name': 'part_2734', 'p.description': 'PRIMER', 'p.ata': '20', 'p.type': 'Expendable'}, {'p.name': 'part_1518', 'p.description': 'THREAD LOCKER LOW STRENGTH', 'p.ata': '20', 'p.type': 'Expendable'}, {'p.name': 'part_2069', 'p.description': 'LOCKWIRE', 'p.ata': '20', 'p.type': 'Expendable'}, {'p.name': 'part_1801', 'p.description': 'RELEASE AGENT', 'p.ata': '20', 'p.type': 'Expendable'}, {'p.name': 'part_1800', 'p.description': 'SEALANT, 2 PARTS', 'p.ata': '20', 'p.type': 'Expendable'}, {'p.name': 'part_915', 'p.description': 'TAPE PAPER MASKING', 'p.ata': '20', 'p.type': 'Expendable'}, {'p.name': 'part_1280', 'p.description': 'WRAP', 'p.ata': '20', 'p.type': 'Expendable'}, {'p.name': 'part_1348', 'p.description': 'TAPE ALUMINIUM HIGHSPEED 2\"', 'p.ata': '20', 'p.type': 'Expendable'}, {'p.name': 'part_42', 'p.description': 'SEALANT', 'p.ata': '20', 'p.type': 'Expendable'}, {'p.name': 'part_12753', 'p.description': 'WASHER', 'p.ata': '20', 'p.type': 'Consumable'}, {'p.name': 'part_9972', 'p.description': 'SCREW', 'p.ata': '20', 'p.type': 'Consumable'}, {'p.name': 'part_10271', 'p.description': 'MASK FULL FACE((PROTECTIVE)', 'p.ata': '20', 'p.type': 'Expendable'}, {'p.name': 'part_753', 'p.description': 'WASHER', 'p.ata': '20', 'p.type': 'Consumable'}, {'p.name': 'part_3690', 'p.description': 'DISINFECTANT MAT NO 14-008', 'p.ata': '20', 'p.type': 'Consumable'}, {'p.name': 'part_119', 'p.description': 'DISINFECTANT (MAT 14-001A)', 'p.ata': '20', 'p.type': 'Consumable'}, {'p.name': 'part_811', 'p.description': 'SEALANT, INTERFAY (MAT 09-005C)', 'p.ata': '20', 'p.type': 'Expendable'}, {'p.name': 'part_491', 'p.description': 'SILICONE GREASE', 'p.ata': '20', 'p.type': 'Consumable'}, {'p.name': 'part_11', 'p.description': 'CLEANER, ACIDIC TOILET', 'p.ata': '20', 'p.type': 'Expendable'}, {'p.name': 'part_5442', 'p.description': 'NUT', 'p.ata': '20', 'p.type': 'Consumable'}, {'p.name': 'part_2709', 'p.description': 'SCREW', 'p.ata': '20', 'p.type': 'Consumable'}, {'p.name': 'part_3186', 'p.description': 'EPOXY ADHESIVE', 'p.ata': '20', 'p.type': 'Expendable'}, {'p.name': 'part_934', 'p.description': 'LUBRICATION OIL (SPEC), CML 03-003', 'p.ata': '20', 'p.type': 'Consumable'}, {'p.name': 'part_9026', 'p.description': 'TAPE 3M ALUMINIUM HIGHSPEED 3\"', 'p.ata': '20', 'p.type': 'Consumable'}, {'p.name': 'part_227', 'p.description': 'GREASE-PASTE', 'p.ata': '20', 'p.type': 'Expendable'}, {'p.name': 'part_221', 'p.description': 'LEAK DETECTOR', 'p.ata': '20', 'p.type': 'Expendable'}, {'p.name': 'part_8243', 'p.description': 'CARPET REPAIR KIT', 'p.ata': '20', 'p.type': 'Expendable'}, {'p.name': 'part_10', 'p.description': 'CLEANINNG,ISOPROPYL ALCOHOL', 'p.ata': '20', 'p.type': 'Expendable'}, {'p.name': 'part_890', 'p.description': 'TORQUE MARK', 'p.ata': '20', 'p.type': 'Expendable'}, {'p.name': 'part_4680', 'p.description': 'SEALANT', 'p.ata': '20', 'p.type': 'Expendable'}, {'p.name': 'part_161', 'p.description': 'SOLVENT CLEANER (MAT 11-026)', 'p.ata': '20', 'p.type': 'Expendable'}, {'p.name': 'part_788', 'p.description': 'PAD ABRASIVE-GEN PURPOSE,FN520007587', 'p.ata': '20', 'p.type': 'Expendable'}, {'p.name': 'part_27840', 'p.description': 'PIN, SPLIT', 'p.ata': '20', 'p.type': 'Consumable'}, {'p.name': 'part_2680', 'p.description': 'ALUMINUM FOIL TAPE', 'p.ata': '20', 'p.type': 'Expendable'}, {'p.name': 'part_1756', 'p.description': 'FILTER FOR MASK 7500', 'p.ata': '20', 'p.type': 'Expendable'}, {'p.name': 'part_26159', 'p.description': 'SOLVENT RESISTANT ADHESIVE/SEALANT', 'p.ata': '20', 'p.type': 'Expendable'}, {'p.name': 'part_8082', 'p.description': 'WASHER', 'p.ata': '20', 'p.type': 'Consumable'}, {'p.name': 'part_23855', 'p.description': 'SCREW', 'p.ata': '20', 'p.type': 'Consumable'}, {'p.name': 'part_138', 'p.description': 'CLEANER ELECTRO CONTACT LPS', 'p.ata': '20', 'p.type': 'Expendable'}, {'p.name': 'part_1432', 'p.description': 'RIVET', 'p.ata': '20', 'p.type': 'Consumable'}, {'p.name': 'part_162', 'p.description': 'SHEET,ALUM CLAD2024T3-0.050\"', 'p.ata': '20', 'p.type': 'Consumable'}, {'p.name': 'part_5309', 'p.description': '1310 EARPLUGS', 'p.ata': '20', 'p.type': 'Expendable'}, {'p.name': 'part_1295', 'p.description': 'SEALANT, CORROSION INHIBITING', 'p.ata': '20', 'p.type': 'Expendable'}, {'p.name': 'part_8589939428', 'p.description': 'SHEET,ALU CLAD 2024T0, 1.6MM', 'p.ata': '20', 'p.type': 'Expendable'}, {'p.name': 'part_24931', 'p.description': 'TEFLON TAPE', 'p.ata': '20', 'p.type': 'Expendable'}, {'p.name': 'part_652', 'p.description': 'A320/321 A/C BATTERY CASE', 'p.ata': '20', 'p.type': 'Consumable'}, {'p.name': 'part_2831', 'p.description': 'SEALANT', 'p.ata': '20', 'p.type': 'Expendable'}, {'p.name': 'part_2256', 'p.description': 'CONTAINER', 'p.ata': '20', 'p.type': 'Consumable'}, {'p.name': 'part_7856', 'p.description': 'WASHER', 'p.ata': '20', 'p.type': 'Consumable'}, {'p.name': 'part_27068', 'p.description': 'CAP', 'p.ata': '20', 'p.type': 'Consumable'}, {'p.name': 'part_16862', 'p.description': 'CAP', 'p.ata': '20', 'p.type': 'Consumable'}, {'p.name': 'part_1577', 'p.description': 'TAPE - 3 INCHES', 'p.ata': '20', 'p.type': 'Expendable'}, {'p.name': 'part_11193', 'p.description': 'LOCKWIRE', 'p.ata': '20', 'p.type': 'Expendable'}, {'p.name': 'part_4398', 'p.description': 'TORQUE SEAL', 'p.ata': '20', 'p.type': 'Expendable'}, {'p.name': 'part_315', 'p.description': 'COMPOUND,CORROSION PREV (15-008)', 'p.ata': '20', 'p.type': 'Expendable'}, {'p.name': 'part_3382', 'p.description': 'POLYSULFIDE SEALANT', 'p.ata': '20', 'p.type': 'Consumable'}, {'p.name': 'part_2968', 'p.description': 'CLEANER, MAT 11-011', 'p.ata': '20', 'p.type': 'Expendable'}, {'p.name': 'part_344', 'p.description': 'LOCKING WIRE', 'p.ata': '20', 'p.type': 'Expendable'}, {'p.name': 'part_317', 'p.description': 'PETROLATUM, TECHNICAL', 'p.ata': '20', 'p.type': 'Expendable'}, {'p.name': 'part_1522', 'p.description': 'FIRE WALL SEALANT', 'p.ata': '20', 'p.type': 'Expendable'}, {'p.name': 'part_1334', 'p.description': 'SEAL', 'p.ata': '20', 'p.type': 'Consumable'}, {'p.name': 'part_2962', 'p.description': 'COMPOUND', 'p.ata': '20', 'p.type': 'Expendable'}, {'p.name': 'part_2785', 'p.description': 'RELEASE AGENT (05-013A)', 'p.ata': '20', 'p.type': 'Expendable'}, {'p.name': 'part_361', 'p.description': 'SOLVENT', 'p.ata': '20', 'p.type': 'Expendable'}, {'p.name': 'part_2971', 'p.description': 'SEALANT (MAT 09-005C)', 'p.ata': '20', 'p.type': 'Expendable'}, {'p.name': 'part_784', 'p.description': 'COMPOUND, CORROSION INHIBITING', 'p.ata': '20', 'p.type': 'Expendable'}, {'p.name': 'part_1443', 'p.description': 'OIL, LUBRICATING,MIL-L-7870', 'p.ata': '20', 'p.type': 'Consumable'}, {'p.name': 'part_29381', 'p.description': 'CONTACT', 'p.ata': '20', 'p.type': 'Consumable'}, {'p.name': 'part_30350', 'p.description': 'CONTACT', 'p.ata': '20', 'p.type': 'Consumable'}, {'p.name': 'part_1308', 'p.description': 'UNIVERSAL THINNER', 'p.ata': '20', 'p.type': 'Expendable'}, {'p.name': 'part_21264', 'p.description': 'HARDENER, UNIVERSAL', 'p.ata': '20', 'p.type': 'Expendable'}, {'p.name': 'part_7295', 'p.description': 'GREASE, ANTI-SEIZE (MAT 04-003)', 'p.ata': '20', 'p.type': 'Expendable'}, {'p.name': 'part_71', 'p.description': 'SEALANT, AERODYNAMIC FILLER', 'p.ata': '20', 'p.type': 'Consumable'}, {'p.name': 'part_332', 'p.description': 'SEALANT', 'p.ata': '20', 'p.type': 'Consumable'}, {'p.name': 'part_331', 'p.description': 'ADHESIVE', 'p.ata': '20', 'p.type': 'Expendable'}, {'p.name': 'part_2328', 'p.description': 'SEALANT, CORROSION INHIBITING', 'p.ata': '20', 'p.type': 'Consumable'}, {'p.name': 'part_6829', 'p.description': 'CLEANER (MAT 11-019)', 'p.ata': '20', 'p.type': 'Consumable'}, {'p.name': 'part_1926', 'p.description': 'COMPOUND', 'p.ata': '20', 'p.type': 'Expendable'}, {'p.name': 'part_606', 'p.description': 'SOLVENT', 'p.ata': '20', 'p.type': 'Expendable'}, {'p.name': 'part_1407', 'p.description': 'LOCKING WIRE', 'p.ata': '20', 'p.type': 'Expendable'}, {'p.name': 'part_785', 'p.description': 'LOCKING WIRE - 0.025IN (0.6MM)', 'p.ata': '20', 'p.type': 'Expendable'}, {'p.name': 'part_339', 'p.description': 'CLEANING AGENT (MAT 11-001A/001Q)', 'p.ata': '20', 'p.type': 'Expendable'}, {'p.name': 'part_2899', 'p.description': 'FILTERS FOR MASK 3M', 'p.ata': '20', 'p.type': 'Expendable'}, {'p.name': 'part_273', 'p.description': 'PROTECTIVE FILTERS', 'p.ata': '20', 'p.type': 'Expendable'}, {'p.name': 'part_3112', 'p.description': 'FILTER RETAINER', 'p.ata': '20', 'p.type': 'Consumable'}, {'p.name': 'part_722', 'p.description': 'SHEET OF CELLULAR PE', 'p.ata': '20', 'p.type': 'Expendable'}]\u001b[0m\n",
            "\n",
            "\u001b[1m> Finished chain.\u001b[0m\n",
            "```json\n",
            "{\n",
            "  \"answer\": [\n",
            "    {\n",
            "      \"name\": \"part_2288\",\n",
            "      \"description\": \"PIN, SPLIT\",\n",
            "      \"ata\": \"20\",\n",
            "      \"type\": \"Consumable\"\n",
            "    },\n",
            "    {\n",
            "      \"name\": \"part_420\",\n",
            "      \"description\": \"SEALANT, CORROSION INHIBITING\",\n",
            "      \"ata\": \"20\",\n",
            "      \"type\": \"Expendable\"\n",
            "    },\n",
            "    {\n",
            "      \"name\": \"part_1\",\n",
            "      \"description\": \"PIN, SPLIT\",\n",
            "      \"ata\": \"20\",\n",
            "      \"type\": \"Consumable\"\n",
            "    },\n",
            "    {\n",
            "      \"name\": \"part_309\",\n",
            "      \"description\": \"PIN, SPLIT\",\n",
            "      \"ata\": \"20\",\n",
            "      \"type\": \"Consumable\"\n",
            "    },\n",
            "    {\n",
            "      \"name\": \"part_8589935879\",\n",
            "      \"description\": \"MOLUB-ALLOY PASTE WHITE T\",\n",
            "      \"ata\": \"20\",\n",
            "      \"type\": \"Expendable\"\n",
            "    },\n",
            "    {\n",
            "      \"name\": \"part_72\",\n",
            "      \"description\": \"ALGLAS WET /DRY WIPES\",\n",
            "      \"ata\": \"20\",\n",
            "      \"type\": \"Expendable\"\n",
            "    },\n",
            "    {\n",
            "      \"name\": \"part_334\",\n",
            "      \"description\": \"PIN,COTTER\",\n",
            "      \"ata\": \"20\",\n",
            "      \"type\": \"Consumable\"\n",
            "    },\n",
            "    {\n",
            "      \"name\": \"part_8187\",\n",
            "      \"description\": \"CIRCUIT BREAKER COLLAR\",\n",
            "      \"ata\": \"20\",\n",
            "      \"type\": \"Consumable\"\n",
            "    },\n",
            "    {\n",
            "      \"name\": \"part_13463\",\n",
            "      \"description\": \"INSERT\",\n",
            "      \"ata\": \"20\",\n",
            "      \"type\": \"Consumable\"\n",
            "    },\n",
            "    {\n",
            "      \"name\": \"part_8589938596\",\n",
            "      \"description\": \"PACKING\",\n",
            "      \"ata\": \"20\",\n",
            "      \"type\": \"Consumable\"\n",
            "    },\n",
            "    {\n",
            "      \"name\": \"part_4238\",\n",
            "      \"description\": \"SEAL\",\n",
            "      \"ata\": \"20\",\n",
            "      \"type\": \"Consumable\"\n",
            "    },\n",
            "    {\n",
            "      \"name\": \"part_1222\",\n",
            "      \"description\": \"SEAL\",\n",
            "      \"ata\": \"20\",\n",
            "      \"type\": \"Consumable\"\n",
            "    },\n",
            "    {\n",
            "      \"name\": \"part_1217\",\n",
            "      \"description\": \"NOZZLE, SEALANT 415\",\n",
            "      \"ata\": \"20\",\n",
            "      \"type\": \"Expendable\"\n",
            "    },\n",
            "    {\n",
            "      \"name\": \"part_143\",\n",
            "      \"description\": \"PIN, SPLIT\",\n",
            "      \"ata\": \"20\",\n",
            "      \"type\": \"Consumable\"\n",
            "    },\n",
            "    {\n",
            "      \"name\": \"part_6520\",\n",
            "      \"description\": \"WIRE BRUSH SPID PVC\",\n",
            "      \"ata\": \"20\",\n",
            "      \"type\": \"Consumable\"\n",
            "    },\n",
            "    {\n",
            "      \"name\": \"part_2734\",\n",
            "      \"description\": \"PRIMER\",\n",
            "      \"ata\": \"20\",\n",
            "      \"type\": \"Expendable\"\n",
            "    },\n",
            "    {\n",
            "      \"name\": \"part_1518\",\n",
            "      \"description\": \"THREAD LOCKER LOW STRENGTH\",\n",
            "      \"ata\": \"20\",\n",
            "      \"type\": \"Expendable\"\n",
            "    },\n",
            "    {\n",
            "      \"name\": \"part_2069\",\n",
            "      \"description\": \"LOCKWIRE\",\n",
            "      \"ata\": \"20\",\n",
            "      \"type\": \"Expendable\"\n",
            "    },\n",
            "    {\n",
            "      \"name\": \"part_1801\",\n",
            "      \"description\": \"RELEASE AGENT\",\n",
            "      \"ata\": \"20\",\n",
            "      \"type\": \"Expendable\"\n",
            "    },\n",
            "    {\n",
            "      \"name\": \"part_1800\",\n",
            "      \"description\": \"SEALANT, 2 PARTS\",\n",
            "      \"ata\": \"20\",\n",
            "      \"type\": \"Expendable\"\n",
            "    },\n",
            "    {\n",
            "      \"name\": \"part_915\",\n",
            "      \"description\": \"TAPE PAPER MASKING\",\n",
            "      \"ata\": \"20\",\n",
            "      \"type\": \"Expendable\"\n",
            "    },\n",
            "    {\n",
            "      \"name\": \"part_1280\",\n",
            "      \"description\": \"WRAP\",\n",
            "      \"ata\": \"20\",\n",
            "      \"type\": \"Expendable\"\n",
            "    },\n",
            "    {\n",
            "      \"name\": \"part_1348\",\n",
            "      \"description\": \"TAPE ALUMINIUM HIGHSPEED 2\\\"\",\n",
            "      \"ata\": \"20\",\n",
            "      \"type\": \"Expendable\"\n",
            "    },\n",
            "    {\n",
            "      \"name\": \"part_42\",\n",
            "      \"description\": \"SEALANT\",\n",
            "      \"ata\": \"20\",\n",
            "      \"type\": \"Expendable\"\n",
            "    },\n",
            "    {\n",
            "      \"name\": \"part_12753\",\n",
            "      \"description\": \"WASHER\",\n",
            "      \"ata\": \"20\",\n",
            "      \"type\": \"Consumable\"\n",
            "    },\n",
            "    {\n",
            "      \"name\": \"part_9972\",\n",
            "      \"description\": \"SCREW\",\n",
            "      \"ata\": \"20\",\n",
            "      \"type\": \"Consumable\"\n",
            "    },\n",
            "    {\n",
            "      \"name\": \"part_10271\",\n",
            "      \"description\": \"MASK FULL FACE((PROTECTIVE)\",\n",
            "      \"ata\": \"20\",\n",
            "      \"type\": \"Expendable\"\n",
            "    },\n",
            "    {\n",
            "      \"name\": \"part_753\",\n",
            "      \"description\": \"WASHER\",\n",
            "      \"ata\": \"20\",\n",
            "      \"type\": \"Consumable\"\n",
            "    },\n",
            "    {\n",
            "      \"name\": \"part_3690\",\n",
            "      \"description\": \"DISINFECTANT MAT NO 14-008\",\n",
            "      \"ata\": \"20\",\n",
            "      \"type\": \"Consumable\"\n",
            "    },\n",
            "    {\n",
            "      \"name\": \"part_119\",\n",
            "      \"description\": \"DISINFECTANT (MAT 14-001A)\",\n",
            "      \"ata\": \"20\",\n",
            "      \"type\": \"Consumable\"\n",
            "    },\n",
            "    {\n",
            "      \"name\": \"part_811\",\n",
            "      \"description\": \"SEALANT, INTERFAY (MAT 09-005C)\",\n",
            "      \"ata\": \"20\",\n",
            "      \"type\": \"Expendable\"\n",
            "    },\n",
            "    {\n",
            "      \"name\": \"part_491\",\n",
            "      \"description\": \"SILICONE GREASE\",\n",
            "      \"ata\": \"20\",\n",
            "      \"type\": \"Consumable\"\n",
            "    },\n",
            "    {\n",
            "      \"name\": \"part_11\",\n",
            "      \"description\": \"CLEANER, ACIDIC TOILET\",\n",
            "      \"ata\": \"20\",\n",
            "      \"type\": \"Expendable\"\n",
            "    },\n",
            "    {\n",
            "      \"name\": \"part_5442\",\n",
            "      \"description\": \"NUT\",\n",
            "      \"ata\": \"20\",\n",
            "      \"type\": \"Consumable\"\n",
            "    },\n",
            "    {\n",
            "      \"name\": \"part_2709\",\n",
            "      \"description\": \"SCREW\",\n",
            "      \"ata\": \"20\",\n",
            "      \"type\": \"Consumable\"\n",
            "    },\n",
            "    {\n",
            "      \"name\": \"part_3186\",\n",
            "      \"description\": \"EPOXY ADHESIVE\",\n",
            "      \"ata\": \"20\",\n",
            "      \"type\": \"Expendable\"\n",
            "    },\n",
            "    {\n",
            "      \"name\": \"part_934\",\n",
            "      \"description\": \"LUBRICATION OIL (SPEC), CML 03-003\",\n",
            "      \"ata\": \"20\",\n",
            "      \"type\": \"Consumable\"\n",
            "    },\n",
            "    {\n",
            "      \"name\": \"part_9026\",\n",
            "      \"description\": \"TAPE 3M ALUMINIUM HIGHSPEED 3\\\"\",\n",
            "      \"ata\": \"20\",\n",
            "      \"type\": \"Consumable\"\n",
            "    },\n",
            "    {\n",
            "      \"name\": \"part_227\",\n",
            "      \"description\": \"GREASE-PASTE\",\n",
            "      \"ata\": \"20\",\n",
            "      \"type\": \"Expendable\"\n",
            "    },\n",
            "    {\n",
            "      \"name\": \"part_221\",\n",
            "      \"description\": \"LEAK DETECTOR\",\n",
            "      \"ata\": \"20\",\n",
            "      \"type\": \"Expendable\"\n",
            "    },\n",
            "    {\n",
            "      \"name\": \"part_8243\",\n",
            "      \"description\": \"CARPET REPAIR KIT\",\n",
            "      \"ata\": \"20\",\n",
            "      \"type\": \"Expendable\"\n",
            "    },\n",
            "    {\n",
            "      \"name\": \"part_10\",\n",
            "      \"description\": \"CLEANINNG,ISOPROPYL ALCOHOL\",\n",
            "      \"ata\": \"20\",\n",
            "      \"type\": \"Expendable\"\n",
            "    },\n",
            "    {\n",
            "      \"name\": \"part_890\",\n",
            "      \"description\": \"TORQUE MARK\",\n",
            "      \"ata\": \"20\",\n",
            "      \"type\": \"Expendable\"\n",
            "    },\n",
            "    {\n",
            "      \"name\": \"part_4680\",\n",
            "      \"description\": \"SEALANT\",\n",
            "      \"ata\": \"20\",\n",
            "      \"type\": \"Expendable\"\n",
            "    },\n",
            "    {\n",
            "      \"name\": \"part_161\",\n",
            "      \"description\": \"SOLVENT CLEANER (MAT 11-026)\",\n",
            "      \"ata\": \"20\",\n",
            "      \"type\": \"Expendable\"\n",
            "    },\n",
            "    {\n",
            "      \"name\": \"part_788\",\n",
            "      \"description\": \"PAD ABRASIVE-GEN PURPOSE,FN520007587\",\n",
            "      \"ata\": \"20\",\n",
            "      \"type\": \"Expendable\"\n",
            "    },\n",
            "    {\n",
            "      \"name\": \"part_27840\",\n",
            "      \"description\": \"PIN, SPLIT\",\n",
            "      \"ata\": \"20\",\n",
            "      \"type\": \"Consumable\"\n",
            "    },\n",
            "    {\n",
            "      \"name\": \"part_2680\",\n",
            "      \"description\": \"ALUMINUM FOIL TAPE\",\n",
            "      \"ata\": \"20\",\n",
            "      \"type\": \"Expendable\"\n",
            "    },\n",
            "    {\n",
            "      \"name\": \"part_1756\",\n",
            "      \"description\": \"FILTER FOR MASK 7500\",\n",
            "      \"ata\": \"20\",\n",
            "      \"type\": \"Expendable\"\n",
            "    },\n",
            "    {\n",
            "      \"name\": \"part_26159\",\n",
            "      \"description\": \"SOLVENT RESISTANT ADHESIVE/SEALANT\",\n",
            "      \"ata\": \"20\",\n",
            "      \"type\": \"Expendable\"\n",
            "    },\n",
            "    {\n",
            "      \"name\": \"part_8082\",\n",
            "      \"description\": \"WASHER\",\n",
            "      \"ata\": \"20\",\n",
            "      \"type\": \"Consumable\"\n",
            "    },\n",
            "    {\n",
            "      \"name\": \"part_23855\",\n",
            "      \"description\": \"SCREW\",\n",
            "      \"ata\": \"20\",\n",
            "      \"type\": \"Consumable\"\n",
            "    },\n",
            "    {\n",
            "      \"name\": \"part_138\",\n",
            "      \"description\": \"CLEANER ELECTRO CONTACT LPS\",\n",
            "      \"ata\": \"20\",\n",
            "      \"type\": \"Expendable\"\n",
            "    },\n",
            "    {\n",
            "      \"name\": \"part_1432\",\n",
            "      \"description\": \"RIVET\",\n",
            "      \"ata\": \"20\",\n",
            "      \"type\": \"Consumable\"\n",
            "    },\n",
            "    {\n",
            "      \"name\": \"part_162\",\n",
            "      \"description\": \"SHEET,ALUM CLAD2024T3-0.050\\\"\",\n",
            "      \"ata\": \"20\",\n",
            "      \"type\": \"Consumable\"\n",
            "    },\n",
            "    {\n",
            "      \"name\": \"part_5309\",\n",
            "      \"description\": \"1310 EARPLUGS\",\n",
            "      \"ata\": \"20\",\n",
            "      \"type\": \"Expendable\"\n",
            "    },\n",
            "    {\n",
            "      \"name\": \"part_1295\",\n",
            "      \"description\": \"SEALANT, CORROSION INHIBITING\",\n",
            "      \"ata\": \"20\",\n",
            "      \"type\": \"Expendable\"\n",
            "    },\n",
            "    {\n",
            "      \"name\": \"part_8589939428\",\n",
            "      \"description\": \"SHEET,ALU CLAD 2024T0, 1.6MM\",\n",
            "      \"ata\": \"20\",\n",
            "      \"type\": \"Expendable\"\n",
            "    },\n",
            "    {\n",
            "      \"name\": \"part_24931\",\n",
            "      \"description\": \"TEFLON TAPE\",\n",
            "      \"ata\": \"20\",\n",
            "      \"type\": \"Expendable\"\n",
            "    },\n",
            "    {\n",
            "      \"name\": \"part_652\",\n",
            "      \"description\": \"A320/321 A/C BATTERY CASE\",\n",
            "      \"ata\": \"20\",\n",
            "      \"type\": \"Consumable\"\n",
            "    },\n",
            "    {\n",
            "      \"name\": \"part_2831\",\n",
            "      \"description\": \"SEALANT\",\n",
            "      \"ata\": \"20\",\n",
            "      \"type\": \"Expendable\"\n",
            "    },\n",
            "    {\n",
            "      \"name\": \"part_2256\",\n",
            "      \"description\": \"CONTAINER\",\n",
            "      \"ata\": \"20\",\n",
            "      \"type\": \"Consumable\"\n",
            "    },\n",
            "    {\n",
            "      \"name\": \"part_7856\",\n",
            "      \"description\": \"WASHER\",\n",
            "      \"ata\": \"20\",\n",
            "      \"type\": \"Consumable\"\n",
            "    },\n",
            "    {\n",
            "      \"name\": \"part_27068\",\n",
            "      \"description\": \"CAP\",\n",
            "      \"ata\": \"20\",\n",
            "      \"type\": \"Consumable\"\n",
            "    },\n",
            "    {\n",
            "      \"name\": \"part_16862\",\n",
            "      \"description\": \"CAP\",\n",
            "      \"ata\": \"20\",\n",
            "      \"type\": \"Consumable\"\n",
            "    },\n",
            "    {\n",
            "      \"name\": \"part_1577\",\n",
            "      \"description\": \"TAPE - 3 INCHES\",\n",
            "      \"ata\": \"20\",\n",
            "      \"type\": \"Expendable\"\n",
            "    },\n",
            "    {\n",
            "      \"name\": \"part_11193\",\n",
            "      \"description\": \"LOCKWIRE\",\n",
            "      \"ata\": \"20\",\n",
            "      \"type\": \"Expendable\"\n",
            "    },\n",
            "    {\n",
            "      \"name\": \"part_4398\",\n",
            "      \"description\": \"TORQUE SEAL\",\n",
            "      \"ata\": \"20\",\n",
            "      \"type\": \"Expendable\"\n",
            "    },\n",
            "    {\n",
            "      \"name\": \"part_315\",\n",
            "      \"description\": \"COMPOUND,CORROSION PREV (15-008)\",\n",
            "      \"ata\": \"20\",\n",
            "      \"type\": \"Expendable\"\n",
            "    },\n",
            "    {\n",
            "      \"name\": \"part_3382\",\n",
            "      \"description\": \"POLYSULFIDE SEALANT\",\n",
            "      \"ata\": \"20\",\n",
            "      \"type\": \"Consumable\"\n",
            "    },\n",
            "    {\n",
            "      \"name\": \"part_2968\",\n",
            "      \"description\": \"CLEANER, MAT 11-011\",\n",
            "      \"ata\": \"20\",\n",
            "      \"type\": \"Expendable\"\n",
            "    },\n",
            "    {\n",
            "      \"name\": \"part_344\",\n",
            "      \"description\": \"LOCKING WIRE\",\n",
            "      \"ata\": \"20\",\n",
            "      \"type\": \"Expendable\"\n",
            "    },\n",
            "    {\n",
            "      \"name\": \"part_317\",\n",
            "      \"description\": \"PETROLATUM, TECHNICAL\",\n",
            "      \"ata\": \"20\",\n",
            "      \"type\": \"Expendable\"\n",
            "    },\n",
            "    {\n",
            "      \"name\": \"part_1522\",\n",
            "      \"description\": \"FIRE WALL SEALANT\",\n",
            "      \"ata\": \"20\",\n",
            "      \"type\": \"Expendable\"\n",
            "    },\n",
            "    {\n",
            "      \"name\": \"part_1334\",\n",
            "      \"description\": \"SEAL\",\n",
            "      \"ata\": \"20\",\n",
            "      \"type\": \"Consumable\"\n",
            "    },\n",
            "    {\n",
            "      \"name\": \"part_2962\",\n",
            "      \"description\": \"COMPOUND\",\n",
            "      \"ata\": \"20\",\n",
            "      \"type\": \"Expendable\"\n",
            "    },\n",
            "    {\n",
            "      \"name\": \"part_2785\",\n",
            "      \"description\": \"RELEASE AGENT (05-013A)\",\n",
            "      \"ata\": \"20\",\n",
            "      \"type\": \"Expendable\"\n",
            "    },\n",
            "    {\n",
            "      \"name\": \"part_361\",\n",
            "      \"description\": \"SOLVENT\",\n",
            "      \"ata\": \"20\",\n",
            "      \"type\": \"Expendable\"\n",
            "    },\n",
            "    {\n",
            "      \"name\": \"part_2971\",\n",
            "      \"description\": \"SEALANT (MAT 09-005C)\",\n",
            "      \"ata\": \"20\",\n",
            "      \"type\": \"Expendable\"\n",
            "    },\n",
            "    {\n",
            "      \"name\": \"part_784\",\n",
            "      \"description\": \"COMPOUND, CORROSION INHIBITING\",\n",
            "      \"ata\": \"20\",\n",
            "      \"type\": \"Expendable\"\n",
            "    },\n",
            "    {\n",
            "      \"name\": \"part_1443\",\n",
            "      \"description\": \"OIL, LUBRICATING,MIL-L-7870\",\n",
            "      \"ata\": \"20\",\n",
            "      \"type\": \"Consumable\"\n",
            "    },\n",
            "    {\n",
            "      \"name\": \"part_29381\",\n",
            "      \"description\": \"CONTACT\",\n",
            "      \"ata\": \"20\",\n",
            "      \"type\": \"Consumable\"\n",
            "    },\n",
            "    {\n",
            "      \"name\": \"part_30350\",\n",
            "      \"description\": \"CONTACT\",\n",
            "      \"ata\": \"20\",\n",
            "      \"type\": \"Consumable\"\n",
            "    },\n",
            "    {\n",
            "      \"name\": \"part_1308\",\n",
            "      \"description\": \"UNIVERSAL THINNER\",\n",
            "      \"ata\": \"20\",\n",
            "      \"type\": \"Expendable\"\n",
            "    },\n",
            "    {\n",
            "      \"name\": \"part_21264\",\n",
            "      \"description\": \"HARDENER, UNIVERSAL\",\n",
            "      \"ata\": \"20\",\n",
            "      \"type\": \"Expendable\"\n",
            "    },\n",
            "    {\n",
            "      \"name\": \"part_7295\",\n",
            "      \"description\": \"GREASE, ANTI-SEIZE (MAT 04-003)\",\n",
            "      \"ata\": \"20\",\n",
            "      \"type\": \"Expendable\"\n",
            "    },\n",
            "    {\n",
            "      \"name\": \"part_71\",\n",
            "      \"description\": \"SEALANT, AERODYNAMIC FILLER\",\n",
            "      \"ata\": \"20\",\n",
            "      \"type\": \"Consumable\"\n",
            "    },\n",
            "    {\n",
            "      \"name\": \"part_332\",\n",
            "      \"description\": \"SEALANT\",\n",
            "      \"ata\": \"20\",\n",
            "      \"type\": \"Consumable\"\n",
            "    },\n",
            "    {\n",
            "      \"name\": \"part_331\",\n",
            "      \"description\": \"ADHESIVE\",\n",
            "      \"ata\": \"20\",\n",
            "      \"type\": \"Expendable\"\n",
            "    },\n",
            "    {\n",
            "      \"name\": \"part_2328\",\n",
            "      \"description\": \"SEALANT, CORROSION INHIBITING\",\n",
            "      \"ata\": \"20\",\n",
            "      \"type\": \"Consumable\"\n",
            "    },\n",
            "    {\n",
            "      \"name\": \"part_6829\",\n",
            "      \"description\": \"CLEANER (MAT 11-019)\",\n",
            "      \"ata\": \"20\",\n",
            "      \"type\": \"Consumable\"\n",
            "    },\n",
            "    {\n",
            "      \"name\": \"part_1926\",\n",
            "      \"description\": \"COMPOUND\",\n",
            "      \"ata\": \"20\",\n",
            "      \"type\": \"Expendable\"\n",
            "    },\n",
            "    {\n",
            "      \"name\": \"part_606\",\n",
            "      \"description\": \"SOLVENT\",\n",
            "      \"ata\": \"20\",\n",
            "      \"type\": \"Expendable\"\n",
            "    },\n",
            "    {\n",
            "      \"name\": \"part_1407\",\n",
            "      \"description\": \"LOCKING WIRE\",\n",
            "      \"ata\": \"20\",\n",
            "      \"type\": \"Expendable\"\n",
            "    },\n",
            "    {\n",
            "      \"name\": \"part_785\",\n",
            "      \"description\": \"LOCKING WIRE - 0.025IN (0.6MM)\",\n",
            "      \"ata\": \"20\",\n",
            "      \"type\": \"Expendable\"\n",
            "    },\n",
            "    {\n",
            "      \"name\": \"part_339\",\n",
            "      \"description\": \"CLEANING AGENT (MAT 11-001A/001Q)\",\n",
            "      \"ata\": \"20\",\n",
            "      \"type\": \"Expendable\"\n",
            "    },\n",
            "    {\n",
            "      \"name\": \"part_2899\",\n",
            "      \"description\": \"FILTERS FOR MASK 3M\",\n",
            "      \"ata\": \"20\",\n",
            "      \"type\": \"Expendable\"\n",
            "    },\n",
            "    {\n",
            "      \"name\": \"part_273\",\n",
            "      \"description\": \"PROTECTIVE FILTERS\",\n",
            "      \"ata\": \"20\",\n",
            "      \"type\n"
          ]
        }
      ]
    },
    {
      "cell_type": "markdown",
      "source": [
        "## Agent uses the RAG chain and Cypher Chain"
      ],
      "metadata": {
        "id": "NDvjexHHCc5R"
      }
    },
    {
      "cell_type": "code",
      "source": [
        "tools = [\n",
        "    Tool(\n",
        "        name=\"Part_description\",\n",
        "        func=rag_chain.invoke,\n",
        "        description=\"\"\"Useful when you need to answer questions only about parts using semantic search focused on part information.\n",
        "        Not useful for answering questions related to pickslips or pickslip creators.\n",
        "        Not useful for objective questions that involve counting, percentages, aggregations and description of parts.\n",
        "        Use the entire prompt as input to the tool.\n",
        "        \"\"\",\n",
        "    ),\n",
        "    Tool(\n",
        "        name=\"Graph\",\n",
        "        func=cypher_chain.invoke,\n",
        "        description=\"\"\"Useful for answering questions about\n",
        "        counting, percentages, aggregations on parts, pickslips or pickslip creators.\n",
        "        It is also useful to answer questions about the properties of parts, pickslips or creators.\n",
        "        It can also be used to answer questions about the relationships between parts, pickslips and creators,\n",
        "        such as which parts are contained in a pickslip or in how many pickslips a part appears.\n",
        "        It does not include embedding properties in answers.\n",
        "        \"\"\",\n",
        "    ),\n",
        "]"
      ],
      "metadata": {
        "id": "YIVKh9vwCbbg"
      },
      "execution_count": 31,
      "outputs": []
    },
    {
      "cell_type": "code",
      "source": [
        "part_agent_prompt = ChatPromptTemplate.from_messages(\n",
        "    [\n",
        "        (\n",
        "            \"system\",\n",
        "            '''\n",
        "            You are an aircraft expert providing information about an airline warehouse.\n",
        "            The warehouse consists of aircraft parts.The parts can be obtained from the warehouse via pickslips.\n",
        "            Be as helpful as possible and return as much information as possible.\n",
        "            Do not answer any questions that do not relate to parts, pickslips or creators of pickslips.\n",
        "            Do not answer any questions using your pre-trained knowledge, only use the information provided in the context.\n",
        "            You can only have access to the tools Graph and Part_description.\n",
        "            One tool can be used more than once to answer a question.\n",
        "            Never say you don't have the right information if there is data in the results. Always use the data in the results.\n",
        "            You must execute the following steps as many times required:\n",
        "            1. Select a tool to provide an answer.\n",
        "            2. If you do not know the answer, try answering with another tool.\n",
        "            3. Check if the answer is relevant to the question. If the answer is irrelevant, reformulate the question and go to step 1,\n",
        "              else, return a response.\n",
        "            4. Check whether hallucination is present to the provided answer. If there is, regenerate an answer.\n",
        "\n",
        "            '''\n",
        "        ),\n",
        "        (\"human\", \"{input}\"),\n",
        "        (\"placeholder\", \"{agent_scratchpad}\"),\n",
        "    ]\n",
        ")"
      ],
      "metadata": {
        "id": "xCVl5ReEClv_"
      },
      "execution_count": 32,
      "outputs": []
    },
    {
      "cell_type": "code",
      "source": [
        "part_rag_agent = create_tool_calling_agent(\n",
        "    llm=chat,\n",
        "    prompt=part_agent_prompt,\n",
        "    tools=tools,\n",
        ")"
      ],
      "metadata": {
        "id": "9hSgy2e6Cowd"
      },
      "execution_count": 33,
      "outputs": []
    },
    {
      "cell_type": "code",
      "source": [
        "part_rag_agent_executor = AgentExecutor(\n",
        "    agent=part_rag_agent,\n",
        "    tools=tools,\n",
        "    return_intermediate_steps=True,\n",
        "    verbose=True,\n",
        ")"
      ],
      "metadata": {
        "id": "kH4dRYEcB_-4"
      },
      "execution_count": 34,
      "outputs": []
    },
    {
      "cell_type": "markdown",
      "source": [
        "Test agent"
      ],
      "metadata": {
        "id": "CMqbeKmFDrYq"
      }
    },
    {
      "cell_type": "code",
      "source": [
        "def run_agent(question):\n",
        "    response = part_rag_agent_executor.invoke({\"input\": f\"{question}\"})\n",
        "    result = response.get(\"output\")\n",
        "    return(result)"
      ],
      "metadata": {
        "id": "lQag-cBlCVir"
      },
      "execution_count": 35,
      "outputs": []
    },
    {
      "cell_type": "code",
      "source": [
        "agent_question1 = \"Which part appears more frequently in pickslips?\"\n",
        "print(agent_question1)\n",
        "print(run_agent(agent_question1))"
      ],
      "metadata": {
        "colab": {
          "base_uri": "https://localhost:8080/"
        },
        "id": "C_51AmOJC4q9",
        "outputId": "5f0b4979-5cac-4fc4-a87a-616111d200ac"
      },
      "execution_count": 36,
      "outputs": [
        {
          "output_type": "stream",
          "name": "stdout",
          "text": [
            "Which part appears more frequently in pickslips?\n",
            "\n",
            "\n",
            "\u001b[1m> Entering new AgentExecutor chain...\u001b[0m\n",
            "\u001b[32;1m\u001b[1;3m\n",
            "Invoking: `Graph` with `Which part appears most frequently in pickslips?`\n",
            "\n",
            "\n",
            "\u001b[0m\n",
            "\n",
            "\u001b[1m> Entering new GraphCypherQAChain chain...\u001b[0m\n",
            "Generated Cypher:\n",
            "\u001b[32;1m\u001b[1;3mMATCH (p:part)-[r:is_in]->(pi:pickslip)\n",
            "WITH p, COUNT(r) AS frequency\n",
            "RETURN p.name, frequency\n",
            "ORDER BY frequency DESC\n",
            "LIMIT 1\u001b[0m\n",
            "Full Context:\n",
            "\u001b[32;1m\u001b[1;3m[{'p.name': 'part_15', 'frequency': 4396}]\u001b[0m\n",
            "\n",
            "\u001b[1m> Finished chain.\u001b[0m\n",
            "\u001b[33;1m\u001b[1;3m{'query': 'Which part appears most frequently in pickslips?', 'result': '```json\\n{\\n  \"answer\": \"The part that appears most frequently in pickslips is \\'part_15\\' with a frequency of 4396.\"\\n}\\n```', 'intermediate_steps': [{'query': 'MATCH (p:part)-[r:is_in]->(pi:pickslip)\\nWITH p, COUNT(r) AS frequency\\nRETURN p.name, frequency\\nORDER BY frequency DESC\\nLIMIT 1'}, {'context': [{'p.name': 'part_15', 'frequency': 4396}]}]}\u001b[0m\u001b[32;1m\u001b[1;3mThe part that appears most frequently in pickslips is 'part_15' with a frequency of 4396.\u001b[0m\n",
            "\n",
            "\u001b[1m> Finished chain.\u001b[0m\n",
            "The part that appears most frequently in pickslips is 'part_15' with a frequency of 4396.\n"
          ]
        }
      ]
    }
  ]
}